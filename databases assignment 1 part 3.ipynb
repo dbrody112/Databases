{
 "cells": [
  {
   "cell_type": "code",
   "execution_count": 92,
   "metadata": {},
   "outputs": [],
   "source": [
    "#Create a Sailors and Boats dataset in Python\n",
    "#@eugsokolov\n",
    "\n",
    "\n",
    "#create a new sqlite database\n",
    "#create database fixture\n",
    "\n",
    "\n",
    "\n",
    "\n",
    "\n",
    "#here I show 2 of the 3 solutions I suggested: employee solution and advertising solution\n",
    "\n",
    "\n",
    "\n",
    "\n",
    "from sqlalchemy import create_engine\n",
    "from sqlalchemy.orm import sessionmaker\n",
    "\n",
    "engine = create_engine('sqlite:///sailors.db',echo = True)\n",
    "\n",
    "Session = sessionmaker(bind = engine)\n",
    "session = Session()\n",
    "\n",
    "sailors = [\n",
    "\t(22,\"dusting\",7,45.0),\n",
    "\t(23,\"emilio\",7,45.0),\n",
    "\t(24,\"scruntus\",1,33.0),\n",
    "\t(29,\"brutus\",1,33.0),\n",
    "\t(31,\"lubber\",8,55.5),\n",
    "\t(32,\"andy\",8,25.5),\n",
    "\t(35,\"figaro\",8,55.5),\n",
    "\t(58,\"rusty\",10,35),\n",
    "\t(59,\"stum\",8,25.5),\n",
    "\t(60,\"jit\",10,35),\n",
    "\t(61,\"ossola\",7,16),\n",
    "\t(62,\"shaun\",10,35),\n",
    "\t(64,\"horatio\",7,16),\n",
    "\t(71,\"zorba\",10,35),\n",
    "\t(74,\"horatio\",9,25.5),\n",
    "\t(85,\"art\",3,25.5),\n",
    "\t(88,\"kevin\",3,25.5),\n",
    "\t(89,\"will\",3,25.5),\n",
    "\t(90,\"josh\",3,25.5),\n",
    "\t(95,\"bob\",3,63.5),\n",
    "]\n",
    "\n",
    "boats = [\n",
    "\t(101,'Interlake','blue',45,20),\n",
    "\t(102,'Interlake','red',45,40),\n",
    "\t(103,'Clipper','green',40,50),\n",
    "\t(104,'Clipper','red',40,30),\n",
    "\t(105,'Marine','red',35,30),\n",
    "\t(106,'Marine','green',35,20),\n",
    "\t(107,'Marine','blue',35,30),\n",
    "\t(108,'Driftwood','red',35,20),\n",
    "\t(109,'Driftwood','blue',35,20),\n",
    "\t(110,'Klapser','red',30,40),\n",
    "\t(111,'Sooney','green',28,50),\n",
    "\t(112,'Sooney','red',28,30),\n",
    "]\n",
    "\n",
    "reserves = [\n",
    "    \n",
    "#note: changed some dates for function later\n",
    "\t(22,101,\"1998-10-10\",9,10,1),\n",
    "\t(22,102,\"1998-10-10\",9,10,2),\n",
    "\t(22,103,\"1998-08-10\",9,10,3),\n",
    "\t(22,104,\"1998-07-10\",13,15,4),\n",
    "\t(23,104,\"1998-10-10\",10,14,5),\n",
    "\t(23,105,\"1998-11-10\",10,14,6),\n",
    "\t(24,104,\"1998-10-10\",9,10,7),\n",
    "\t(31,102,\"1998-11-10\",10,14,8),\n",
    "\t(31,103,\"1998-11-06\",11,12,9),\n",
    "\t(31,104,\"1998-11-12\",10,14,10),\n",
    "\t(35,104,\"1998-08-10\",9,10,11),\n",
    "\t(35,105,\"1998-11-06\",11,12,12),\n",
    "\t(59,105,\"1998-07-10\",13,15,13),\n",
    "\t(59,106,\"1998-11-12\",14,16,14),\n",
    "\t(59,109,\"1998-11-10\",9,10,15),\n",
    "\t(60,106,\"1998-09-05\",11,12,16),\n",
    "\t(60,106,\"1998-09-08\",14,16,17),\n",
    "\t(60,109,\"1998-07-10\",14,16,18),\n",
    "\t(61,112,\"1998-09-08\",9,10,19),\n",
    "\t(62,110,\"1998-11-06\",11,12,20),\n",
    "\t(64,101,\"1998-09-05\",14,16,21),\n",
    "\t(64,102,\"1998-09-08\",11,12,22),\n",
    "\t(74,103,\"1998-09-08\",14,16,23),\n",
    "\t(88,107,\"1998-09-08\",14,16,24),\n",
    "\t(88,110,\"1998-09-05\",9,10,25),\n",
    "\t(88,110,\"1998-11-12\",14,16,26),\n",
    "\t(88,111,\"1998-09-08\",13,15,27),\n",
    "\t(89,108,\"1998-10-10\",14,16,28),\n",
    "\t(89,109,\"1998-10-09\",14,18,29),\n",
    "\t(90,109,\"1998-10-10\",13,15,30),\n",
    "    (90,109,\"1998-10-11\",13,15,30),\n",
    "\n",
    "]\n",
    "\n",
    "campaign = [\n",
    "    (1,\"1998-10-10\",1,0),\n",
    "    (2,\"1998-11-12\",0,1),\n",
    "    (3,\"1998-09-08\",1,0),\n",
    "    (4,\"1998-09-05\",0,1),\n",
    "    (5,\"1998-07-10\",0,1),\n",
    "]\n",
    "\n",
    "schedule = [\n",
    "    (1,8,17,\"Dan\",1),\n",
    "    (2,10,17,\"Dan\",8),\n",
    "    (3,15,17,\"Richard\",9),\n",
    "    (4,16,17,\"Richard\",2),\n",
    "    (5,9,17,\"Dan\",4),\n",
    "    (6,11,17,\"Fred\",6),\n",
    "    (7,10,16,\"Sergio\",3),\n",
    "    (8,8,17,\"Sergio\",7),\n",
    "    (9,15,17,\"Fred\",5), \n",
    "]\n",
    "\n",
    "from sqlalchemy import Column, Integer, String,Date,Float,Boolean\n",
    "from sqlalchemy import Table, MetaData\n",
    "meta = MetaData()\n",
    "from sqlalchemy.ext.declarative import as_declarative\n",
    "from sqlalchemy.ext.declarative.api import declared_attr\n",
    "from datetime import date\n",
    "\n",
    "@as_declarative()\n",
    "class Base(object):\n",
    "    @declared_attr\n",
    "    def __tablename__(cls):\n",
    "        return cls.__name__.lower()\n",
    "    @declared_attr\n",
    "    def __table_args__(cls):\n",
    "        return {'extend_existing':True}\n",
    "    \n"
   ]
  },
  {
   "cell_type": "code",
   "execution_count": 93,
   "metadata": {},
   "outputs": [],
   "source": [
    "from sqlalchemy import ForeignKey\n",
    "from sqlalchemy import CheckConstraint\n",
    "\n",
    "class Sailor(Base):\n",
    "    \n",
    "    __tablename__ = 'Sailors'\n",
    "    \n",
    "    sid = Column(Integer, primary_key=True)\n",
    "    sname = Column(String)\n",
    "    rating = Column(Integer)\n",
    "    age = Column(Integer)\n",
    "    \n",
    "    def __repr__(self):\n",
    "        return \"<Sailor(id='%d', name='%s', rating='%d', age = %s)>\" % (\n",
    "                             self.sid, self.sname, self.rating,self.age)\n",
    "\n",
    "class Reservation(Base):\n",
    "    \n",
    "    __tablename__ = 'Reserves'\n",
    "    __table_args__ = (\n",
    "            CheckConstraint('time_out > time_in'),\n",
    "            CheckConstraint('time_in <=24'),\n",
    "            CheckConstraint('time_out <= 24'),\n",
    "            )\n",
    "    \n",
    "    sid = Column(Integer,ForeignKey('Sailors.sid'),primary_key=True)\n",
    "    bid = Column(Integer,ForeignKey('Boats.bid'), primary_key=True)\n",
    "    day = Column(Date, primary_key=True)\n",
    "    time_in = Column(Integer)\n",
    "    time_out = Column(Integer)\n",
    "    rid = Column(Integer, primary_key = True)\n",
    "    \n",
    "    def __repr__(self):\n",
    "        return \"<Reservation(boat id='%d', sailor id ='%d', day ='%s')>\" % (\n",
    "                             self.bid, self.sid, self.day)\n",
    "    \n",
    "class Boat(Base):\n",
    "    \n",
    "    __tablename__ = 'Boats'\n",
    "    \n",
    "    bid = Column(Integer, primary_key=True)\n",
    "    bname = Column(String)\n",
    "    color = Column(String)\n",
    "    length = Column(Integer)\n",
    "    price_per_hour = Column(Integer)\n",
    "    \n",
    "    def __repr__(self):\n",
    "        return \"<Boat(boat id='%d', boat name ='%s',color ='%s', length = '%d')>\" % (\n",
    "                             self.bid, self.bname, self.color,self.length)\n",
    "\n",
    "    \n",
    "class Campaign(Base):\n",
    "    __tablename__ = 'campaigns'\n",
    "    \n",
    "    campaign_id = Column(Integer,primary_key = True)\n",
    "    date = Column(Date, ForeignKey('Reserves.day'))\n",
    "    advertisements = Column(Boolean)\n",
    "    sales = Column(Boolean)\n",
    "    \n",
    "    def __repr__(self):\n",
    "        return \"<Campaign(campaign_id='%d', date = '%s', advertisements ='%d',sales ='%d')>\" % (\n",
    "                             self.campaign_id, self.date, self.advertisements,self.sales)\n",
    "\n",
    "class Schedule(Base):\n",
    "    __tablename__ = 'schedule'\n",
    "    __table_args__ = (\n",
    "            CheckConstraint('signed_out > signed_in'),\n",
    "            CheckConstraint('signed_in <=24'),\n",
    "            CheckConstraint('signed_out <= 24'),\n",
    "            )\n",
    "    \n",
    "    schedule_id = Column(Integer,primary_key=True)\n",
    "    signed_in = Column(Integer)\n",
    "    signed_out = Column(Integer)\n",
    "    name = Column(String)\n",
    "    rid = Column(Integer, ForeignKey('Reserves.rid'))\n",
    "    \n",
    "    def __repr__(self):\n",
    "        return \"<Schedule(schedule_id = '%d',signed_in='%d', signed_out = '%d', name ='%s',rid = '%d')>\" % (\n",
    "                             self.schedule_id,self.signed_in, self.signed_out, self.name,self.rid)\n"
   ]
  },
  {
   "cell_type": "code",
   "execution_count": 94,
   "metadata": {},
   "outputs": [
    {
     "name": "stdout",
     "output_type": "stream",
     "text": [
      "2020-10-17 02:04:02,485 INFO sqlalchemy.engine.base.Engine SELECT CAST('test plain returns' AS VARCHAR(60)) AS anon_1\n",
      "2020-10-17 02:04:02,486 INFO sqlalchemy.engine.base.Engine ()\n",
      "2020-10-17 02:04:02,487 INFO sqlalchemy.engine.base.Engine SELECT CAST('test unicode returns' AS VARCHAR(60)) AS anon_1\n",
      "2020-10-17 02:04:02,487 INFO sqlalchemy.engine.base.Engine ()\n",
      "2020-10-17 02:04:02,488 INFO sqlalchemy.engine.base.Engine PRAGMA main.table_info(\"Sailors\")\n",
      "2020-10-17 02:04:02,489 INFO sqlalchemy.engine.base.Engine ()\n",
      "2020-10-17 02:04:02,490 INFO sqlalchemy.engine.base.Engine PRAGMA temp.table_info(\"Sailors\")\n",
      "2020-10-17 02:04:02,491 INFO sqlalchemy.engine.base.Engine ()\n",
      "2020-10-17 02:04:02,492 INFO sqlalchemy.engine.base.Engine PRAGMA main.table_info(\"Reserves\")\n",
      "2020-10-17 02:04:02,492 INFO sqlalchemy.engine.base.Engine ()\n",
      "2020-10-17 02:04:02,493 INFO sqlalchemy.engine.base.Engine PRAGMA temp.table_info(\"Reserves\")\n",
      "2020-10-17 02:04:02,493 INFO sqlalchemy.engine.base.Engine ()\n",
      "2020-10-17 02:04:02,495 INFO sqlalchemy.engine.base.Engine PRAGMA main.table_info(\"Boats\")\n",
      "2020-10-17 02:04:02,495 INFO sqlalchemy.engine.base.Engine ()\n",
      "2020-10-17 02:04:02,496 INFO sqlalchemy.engine.base.Engine PRAGMA temp.table_info(\"Boats\")\n",
      "2020-10-17 02:04:02,496 INFO sqlalchemy.engine.base.Engine ()\n",
      "2020-10-17 02:04:02,497 INFO sqlalchemy.engine.base.Engine PRAGMA main.table_info(\"campaigns\")\n",
      "2020-10-17 02:04:02,497 INFO sqlalchemy.engine.base.Engine ()\n",
      "2020-10-17 02:04:02,498 INFO sqlalchemy.engine.base.Engine PRAGMA temp.table_info(\"campaigns\")\n",
      "2020-10-17 02:04:02,498 INFO sqlalchemy.engine.base.Engine ()\n",
      "2020-10-17 02:04:02,499 INFO sqlalchemy.engine.base.Engine PRAGMA main.table_info(\"schedule\")\n",
      "2020-10-17 02:04:02,499 INFO sqlalchemy.engine.base.Engine ()\n",
      "2020-10-17 02:04:02,500 INFO sqlalchemy.engine.base.Engine PRAGMA temp.table_info(\"schedule\")\n",
      "2020-10-17 02:04:02,500 INFO sqlalchemy.engine.base.Engine ()\n",
      "2020-10-17 02:04:02,501 INFO sqlalchemy.engine.base.Engine \n",
      "CREATE TABLE \"Sailors\" (\n",
      "\tsid INTEGER NOT NULL, \n",
      "\tsname VARCHAR, \n",
      "\trating INTEGER, \n",
      "\tage INTEGER, \n",
      "\tPRIMARY KEY (sid)\n",
      ")\n",
      "\n",
      "\n",
      "2020-10-17 02:04:02,503 INFO sqlalchemy.engine.base.Engine ()\n",
      "2020-10-17 02:04:02,510 INFO sqlalchemy.engine.base.Engine COMMIT\n",
      "2020-10-17 02:04:02,511 INFO sqlalchemy.engine.base.Engine \n",
      "CREATE TABLE \"Boats\" (\n",
      "\tbid INTEGER NOT NULL, \n",
      "\tbname VARCHAR, \n",
      "\tcolor VARCHAR, \n",
      "\tlength INTEGER, \n",
      "\tprice_per_hour INTEGER, \n",
      "\tPRIMARY KEY (bid)\n",
      ")\n",
      "\n",
      "\n",
      "2020-10-17 02:04:02,512 INFO sqlalchemy.engine.base.Engine ()\n",
      "2020-10-17 02:04:02,518 INFO sqlalchemy.engine.base.Engine COMMIT\n",
      "2020-10-17 02:04:02,520 INFO sqlalchemy.engine.base.Engine \n",
      "CREATE TABLE \"Reserves\" (\n",
      "\tsid INTEGER NOT NULL, \n",
      "\tbid INTEGER NOT NULL, \n",
      "\tday DATE NOT NULL, \n",
      "\ttime_in INTEGER, \n",
      "\ttime_out INTEGER, \n",
      "\trid INTEGER NOT NULL, \n",
      "\tPRIMARY KEY (sid, bid, day, rid), \n",
      "\tCHECK (time_out > time_in), \n",
      "\tCHECK (time_in <=24), \n",
      "\tCHECK (time_out <= 24), \n",
      "\tFOREIGN KEY(sid) REFERENCES \"Sailors\" (sid), \n",
      "\tFOREIGN KEY(bid) REFERENCES \"Boats\" (bid)\n",
      ")\n",
      "\n",
      "\n",
      "2020-10-17 02:04:02,520 INFO sqlalchemy.engine.base.Engine ()\n",
      "2020-10-17 02:04:02,528 INFO sqlalchemy.engine.base.Engine COMMIT\n",
      "2020-10-17 02:04:02,530 INFO sqlalchemy.engine.base.Engine \n",
      "CREATE TABLE campaigns (\n",
      "\tcampaign_id INTEGER NOT NULL, \n",
      "\tdate DATE, \n",
      "\tadvertisements BOOLEAN, \n",
      "\tsales BOOLEAN, \n",
      "\tPRIMARY KEY (campaign_id), \n",
      "\tFOREIGN KEY(date) REFERENCES \"Reserves\" (day), \n",
      "\tCHECK (advertisements IN (0, 1)), \n",
      "\tCHECK (sales IN (0, 1))\n",
      ")\n",
      "\n",
      "\n",
      "2020-10-17 02:04:02,531 INFO sqlalchemy.engine.base.Engine ()\n",
      "2020-10-17 02:04:02,538 INFO sqlalchemy.engine.base.Engine COMMIT\n",
      "2020-10-17 02:04:02,540 INFO sqlalchemy.engine.base.Engine \n",
      "CREATE TABLE schedule (\n",
      "\tschedule_id INTEGER NOT NULL, \n",
      "\tsigned_in INTEGER, \n",
      "\tsigned_out INTEGER, \n",
      "\tname VARCHAR, \n",
      "\trid INTEGER, \n",
      "\tPRIMARY KEY (schedule_id), \n",
      "\tCHECK (signed_out > signed_in), \n",
      "\tCHECK (signed_in <=24), \n",
      "\tCHECK (signed_out <= 24), \n",
      "\tFOREIGN KEY(rid) REFERENCES \"Reserves\" (rid)\n",
      ")\n",
      "\n",
      "\n",
      "2020-10-17 02:04:02,541 INFO sqlalchemy.engine.base.Engine ()\n",
      "2020-10-17 02:04:02,547 INFO sqlalchemy.engine.base.Engine COMMIT\n"
     ]
    }
   ],
   "source": [
    "Base.metadata.create_all(engine)"
   ]
  },
  {
   "cell_type": "code",
   "execution_count": 95,
   "metadata": {},
   "outputs": [],
   "source": [
    "for(sid,sname,rating,age) in sailors:\n",
    "    session.add(Sailor(sid = sid, sname = sname, rating = rating, age = age))"
   ]
  },
  {
   "cell_type": "code",
   "execution_count": 96,
   "metadata": {},
   "outputs": [
    {
     "name": "stdout",
     "output_type": "stream",
     "text": [
      "2020-10-17 02:04:02,925 INFO sqlalchemy.engine.base.Engine BEGIN (implicit)\n",
      "2020-10-17 02:04:02,927 INFO sqlalchemy.engine.base.Engine INSERT INTO \"Sailors\" (sid, sname, rating, age) VALUES (?, ?, ?, ?)\n",
      "2020-10-17 02:04:02,927 INFO sqlalchemy.engine.base.Engine ((22, 'dusting', 7, 45.0), (23, 'emilio', 7, 45.0), (24, 'scruntus', 1, 33.0), (29, 'brutus', 1, 33.0), (31, 'lubber', 8, 55.5), (32, 'andy', 8, 25.5), (35, 'figaro', 8, 55.5), (58, 'rusty', 10, 35)  ... displaying 10 of 20 total bound parameter sets ...  (90, 'josh', 3, 25.5), (95, 'bob', 3, 63.5))\n",
      "2020-10-17 02:04:02,930 INFO sqlalchemy.engine.base.Engine COMMIT\n"
     ]
    }
   ],
   "source": [
    "session.commit()"
   ]
  },
  {
   "cell_type": "code",
   "execution_count": 97,
   "metadata": {},
   "outputs": [],
   "source": [
    "for(sid,bid,v,time_in,time_out,rid) in reserves:\n",
    "    session.add(Reservation(sid=sid,bid=bid,day=date(int(v[:4]), int(v[5:7]), int(v[8:10])), time_in = time_in, time_out = time_out, rid = rid))\n"
   ]
  },
  {
   "cell_type": "code",
   "execution_count": 98,
   "metadata": {},
   "outputs": [
    {
     "name": "stdout",
     "output_type": "stream",
     "text": [
      "2020-10-17 02:04:03,365 INFO sqlalchemy.engine.base.Engine BEGIN (implicit)\n",
      "2020-10-17 02:04:03,367 INFO sqlalchemy.engine.base.Engine INSERT INTO \"Reserves\" (sid, bid, day, time_in, time_out, rid) VALUES (?, ?, ?, ?, ?, ?)\n",
      "2020-10-17 02:04:03,368 INFO sqlalchemy.engine.base.Engine ((22, 101, '1998-10-10', 9, 10, 1), (22, 102, '1998-10-10', 9, 10, 2), (22, 103, '1998-08-10', 9, 10, 3), (22, 104, '1998-07-10', 13, 15, 4), (23, 104, '1998-10-10', 10, 14, 5), (23, 105, '1998-11-10', 10, 14, 6), (24, 104, '1998-10-10', 9, 10, 7), (31, 102, '1998-11-10', 10, 14, 8)  ... displaying 10 of 31 total bound parameter sets ...  (90, 109, '1998-10-10', 13, 15, 30), (90, 109, '1998-10-11', 13, 15, 30))\n",
      "2020-10-17 02:04:03,374 INFO sqlalchemy.engine.base.Engine COMMIT\n"
     ]
    }
   ],
   "source": [
    "session.commit()"
   ]
  },
  {
   "cell_type": "code",
   "execution_count": 99,
   "metadata": {},
   "outputs": [],
   "source": [
    "for (bid, bname, color, length,price_per_hour) in boats:\n",
    "    session.add(Boat(bid=bid, bname = bname, color = color, length = length,price_per_hour = price_per_hour))"
   ]
  },
  {
   "cell_type": "code",
   "execution_count": 100,
   "metadata": {},
   "outputs": [
    {
     "name": "stdout",
     "output_type": "stream",
     "text": [
      "2020-10-17 02:04:03,821 INFO sqlalchemy.engine.base.Engine BEGIN (implicit)\n",
      "2020-10-17 02:04:03,823 INFO sqlalchemy.engine.base.Engine INSERT INTO \"Boats\" (bid, bname, color, length, price_per_hour) VALUES (?, ?, ?, ?, ?)\n",
      "2020-10-17 02:04:03,823 INFO sqlalchemy.engine.base.Engine ((101, 'Interlake', 'blue', 45, 20), (102, 'Interlake', 'red', 45, 40), (103, 'Clipper', 'green', 40, 50), (104, 'Clipper', 'red', 40, 30), (105, 'Marine', 'red', 35, 30), (106, 'Marine', 'green', 35, 20), (107, 'Marine', 'blue', 35, 30), (108, 'Driftwood', 'red', 35, 20)  ... displaying 10 of 12 total bound parameter sets ...  (111, 'Sooney', 'green', 28, 50), (112, 'Sooney', 'red', 28, 30))\n",
      "2020-10-17 02:04:03,829 INFO sqlalchemy.engine.base.Engine COMMIT\n"
     ]
    }
   ],
   "source": [
    "session.commit()"
   ]
  },
  {
   "cell_type": "code",
   "execution_count": 101,
   "metadata": {},
   "outputs": [],
   "source": [
    "for(campaign_id, v, advertisements, sales) in campaign:\n",
    "    session.add(Campaign(campaign_id = campaign_id, date = date(int(v[:4]), int(v[5:7]), int(v[8:10])), advertisements = advertisements, sales = sales))"
   ]
  },
  {
   "cell_type": "code",
   "execution_count": 102,
   "metadata": {},
   "outputs": [
    {
     "name": "stdout",
     "output_type": "stream",
     "text": [
      "2020-10-17 02:04:04,283 INFO sqlalchemy.engine.base.Engine BEGIN (implicit)\n",
      "2020-10-17 02:04:04,284 INFO sqlalchemy.engine.base.Engine INSERT INTO campaigns (campaign_id, date, advertisements, sales) VALUES (?, ?, ?, ?)\n",
      "2020-10-17 02:04:04,285 INFO sqlalchemy.engine.base.Engine ((1, '1998-10-10', 1, 0), (2, '1998-11-12', 0, 1), (3, '1998-09-08', 1, 0), (4, '1998-09-05', 0, 1), (5, '1998-07-10', 0, 1))\n",
      "2020-10-17 02:04:04,287 INFO sqlalchemy.engine.base.Engine COMMIT\n"
     ]
    }
   ],
   "source": [
    "session.commit()"
   ]
  },
  {
   "cell_type": "code",
   "execution_count": 103,
   "metadata": {},
   "outputs": [],
   "source": [
    "for(schedule_id,signed_in,signed_out,name,rid) in schedule:\n",
    "    session.add(Schedule(schedule_id = schedule_id,signed_in = signed_in, signed_out = signed_out, name = name, rid = rid))"
   ]
  },
  {
   "cell_type": "code",
   "execution_count": 104,
   "metadata": {},
   "outputs": [
    {
     "name": "stdout",
     "output_type": "stream",
     "text": [
      "2020-10-17 02:04:04,789 INFO sqlalchemy.engine.base.Engine BEGIN (implicit)\n",
      "2020-10-17 02:04:04,791 INFO sqlalchemy.engine.base.Engine INSERT INTO schedule (schedule_id, signed_in, signed_out, name, rid) VALUES (?, ?, ?, ?, ?)\n",
      "2020-10-17 02:04:04,792 INFO sqlalchemy.engine.base.Engine ((1, 8, 17, 'Dan', 1), (2, 10, 17, 'Dan', 8), (3, 15, 17, 'Richard', 9), (4, 16, 17, 'Richard', 2), (5, 9, 17, 'Dan', 4), (6, 11, 17, 'Fred', 6), (7, 10, 16, 'Sergio', 3), (8, 8, 17, 'Sergio', 7), (9, 15, 17, 'Fred', 5))\n",
      "2020-10-17 02:04:04,795 INFO sqlalchemy.engine.base.Engine COMMIT\n"
     ]
    }
   ],
   "source": [
    "session.commit()"
   ]
  },
  {
   "cell_type": "code",
   "execution_count": 105,
   "metadata": {},
   "outputs": [],
   "source": [
    "from sqlalchemy.sql import select\n",
    "from sqlalchemy import func\n",
    "from sqlalchemy import case\n",
    "from sqlalchemy import and_\n",
    "\n",
    "conn = engine.connect()\n",
    "\n",
    "expr = case(\n",
    "        [\n",
    "            ((Boat.color == \"red\"), 1),\n",
    "        ],\n",
    "        else_=0,\n",
    "    )\n",
    "\n",
    "def firstQueryTest(Boat,Reservation):\n",
    "    assert len(session.query(Boat.bname,func.count(Boat.bname)).\\\n",
    "               select_from(Boat).join(Reservation, Boat.bid == Reservation.bid).\\\n",
    "               group_by(Boat.bname).all()) == 6\n",
    "\n",
    "def secondQueryTest(Sailor,Boat,Reservation):\n",
    "    \n",
    "    subquery = session.query(func.count(Boat.bname)).\\\n",
    "    select_from(Boat).filter(Boat.color == \"red\").subquery()\n",
    "    \n",
    "    assert len(session.query(Sailor.sname,Sailor.sid).\n",
    "     select_from(Reservation).join(Boat).join(Sailor).\\\n",
    "    group_by(Sailor.sname,Sailor.sid).\\\n",
    "    having(func.sum(expr) == subquery).all()) == 0\n",
    "\n",
    "def thirdQueryTest(Sailor,Boat,Reservation):\n",
    "    assert len(session.query(Sailor.sname,Sailor.sid).\n",
    "    select_from(Reservation).join(Boat).join(Sailor).\\\n",
    "    group_by(Sailor.sname,Sailor.sid).\\\n",
    "    having(func.sum(expr) == func.count(Boat.color)).all()) == 5\n",
    "\n",
    "\n",
    "def fourthQueryTest(Boat,Reservation):\n",
    "    assert session.query(Boat.bname, func.count(Reservation.sid)).\\\n",
    "    select_from(Reservation).join(Boat).\\\n",
    "    group_by(Boat.bname).first() == ('Clipper', 8)\n",
    "    \n",
    "def fifthQueryTest(Sailor,Boat,Reservation):\n",
    "    assert len(session.query(Sailor.sname,Sailor.sid).\n",
    "    select_from(Reservation).join(Boat).join(Sailor).\\\n",
    "    group_by(Sailor.sname,Sailor.sid).\\\n",
    "    having(func.sum(expr) == 0).all()) == 3\n",
    "\n",
    "def sixthQueryTest(Sailor):\n",
    "    assert (session.query(func.avg(Sailor.age)).\\\n",
    "    select_from(Sailor).\\\n",
    "    filter(Sailor.rating == 10).all())[0][0] == 35.0\n",
    "    \n",
    "def seventhQueryTest(Sailor):\n",
    "    x = []\n",
    "    for i in range(len(session.query(Sailor.rating).distinct().all())):\n",
    "        \n",
    "        subquery = session.query(Sailor.age).\\\n",
    "        select_from(Sailor).\\\n",
    "        filter(Sailor.rating == session.query(Sailor.rating).distinct().all()[i][0]).\\\n",
    "        group_by(Sailor.age).first()\n",
    "        \n",
    "        \n",
    "        x.append(session.query(Sailor.sname,Sailor.sid).\\\n",
    "        select_from(Sailor).\\\n",
    "        filter(and_(Sailor.rating == session.query(Sailor.rating).distinct().all()[i][0],Sailor.age.in_(subquery))).first())\n",
    "    \n",
    "    assert len(x) == 6\n",
    "\n",
    "def eighthQueryTest(Sailor,Boat,Reservation):\n",
    "    x = []\n",
    "    for i in range(len(session.query(Boat.bname).distinct().all())):\n",
    "        \n",
    "        x.append(session.query(func.count(Reservation.bid),Boat.bname,Sailor.sname).\\\n",
    "        select_from(Reservation).join(Sailor).join(Boat).\\\n",
    "        filter(Boat.bname == session.query(Boat.bname).distinct().all()[i][0]).\\\n",
    "        group_by(Boat.bname,Sailor.sname).first())\n",
    "\n",
    "    assert len(x) == 6    \n",
    "    "
   ]
  },
  {
   "cell_type": "code",
   "execution_count": 106,
   "metadata": {},
   "outputs": [
    {
     "name": "stdout",
     "output_type": "stream",
     "text": [
      "2020-10-17 02:04:05,339 INFO sqlalchemy.engine.base.Engine BEGIN (implicit)\n",
      "2020-10-17 02:04:05,340 INFO sqlalchemy.engine.base.Engine SELECT \"Boats\".bname AS \"Boats_bname\", count(\"Boats\".bname) AS count_1 \n",
      "FROM \"Boats\" JOIN \"Reserves\" ON \"Boats\".bid = \"Reserves\".bid GROUP BY \"Boats\".bname\n",
      "2020-10-17 02:04:05,341 INFO sqlalchemy.engine.base.Engine ()\n"
     ]
    }
   ],
   "source": [
    "firstQueryTest(Boat,Reservation)"
   ]
  },
  {
   "cell_type": "code",
   "execution_count": 107,
   "metadata": {},
   "outputs": [
    {
     "name": "stdout",
     "output_type": "stream",
     "text": [
      "2020-10-17 02:04:06,022 INFO sqlalchemy.engine.base.Engine SELECT \"Sailors\".sname AS \"Sailors_sname\", \"Sailors\".sid AS \"Sailors_sid\" \n",
      "FROM \"Reserves\" JOIN \"Boats\" ON \"Boats\".bid = \"Reserves\".bid JOIN \"Sailors\" ON \"Sailors\".sid = \"Reserves\".sid GROUP BY \"Sailors\".sname, \"Sailors\".sid \n",
      "HAVING sum(CASE WHEN (\"Boats\".color = ?) THEN ? ELSE ? END) = (SELECT count(\"Boats\".bname) AS count_1 \n",
      "FROM \"Boats\" \n",
      "WHERE \"Boats\".color = ?)\n",
      "2020-10-17 02:04:06,023 INFO sqlalchemy.engine.base.Engine ('red', 1, 0, 'red')\n"
     ]
    }
   ],
   "source": [
    "secondQueryTest(Sailor,Boat,Reservation)"
   ]
  },
  {
   "cell_type": "code",
   "execution_count": 108,
   "metadata": {},
   "outputs": [
    {
     "name": "stdout",
     "output_type": "stream",
     "text": [
      "2020-10-17 02:04:06,379 INFO sqlalchemy.engine.base.Engine SELECT \"Sailors\".sname AS \"Sailors_sname\", \"Sailors\".sid AS \"Sailors_sid\" \n",
      "FROM \"Reserves\" JOIN \"Boats\" ON \"Boats\".bid = \"Reserves\".bid JOIN \"Sailors\" ON \"Sailors\".sid = \"Reserves\".sid GROUP BY \"Sailors\".sname, \"Sailors\".sid \n",
      "HAVING sum(CASE WHEN (\"Boats\".color = ?) THEN ? ELSE ? END) = count(\"Boats\".color)\n",
      "2020-10-17 02:04:06,380 INFO sqlalchemy.engine.base.Engine ('red', 1, 0)\n"
     ]
    }
   ],
   "source": [
    "thirdQueryTest(Sailor,Boat,Reservation)"
   ]
  },
  {
   "cell_type": "code",
   "execution_count": 109,
   "metadata": {},
   "outputs": [
    {
     "name": "stdout",
     "output_type": "stream",
     "text": [
      "2020-10-17 02:04:06,643 INFO sqlalchemy.engine.base.Engine SELECT \"Boats\".bname AS \"Boats_bname\", count(\"Reserves\".sid) AS count_1 \n",
      "FROM \"Reserves\" JOIN \"Boats\" ON \"Boats\".bid = \"Reserves\".bid GROUP BY \"Boats\".bname\n",
      " LIMIT ? OFFSET ?\n",
      "2020-10-17 02:04:06,643 INFO sqlalchemy.engine.base.Engine (1, 0)\n"
     ]
    }
   ],
   "source": [
    "fourthQueryTest(Boat,Reservation)"
   ]
  },
  {
   "cell_type": "code",
   "execution_count": 110,
   "metadata": {},
   "outputs": [
    {
     "name": "stdout",
     "output_type": "stream",
     "text": [
      "2020-10-17 02:04:07,040 INFO sqlalchemy.engine.base.Engine SELECT \"Sailors\".sname AS \"Sailors_sname\", \"Sailors\".sid AS \"Sailors_sid\" \n",
      "FROM \"Reserves\" JOIN \"Boats\" ON \"Boats\".bid = \"Reserves\".bid JOIN \"Sailors\" ON \"Sailors\".sid = \"Reserves\".sid GROUP BY \"Sailors\".sname, \"Sailors\".sid \n",
      "HAVING sum(CASE WHEN (\"Boats\".color = ?) THEN ? ELSE ? END) = ?\n",
      "2020-10-17 02:04:07,041 INFO sqlalchemy.engine.base.Engine ('red', 1, 0, 0)\n"
     ]
    }
   ],
   "source": [
    "fifthQueryTest(Sailor,Boat,Reservation)"
   ]
  },
  {
   "cell_type": "code",
   "execution_count": 111,
   "metadata": {},
   "outputs": [
    {
     "name": "stdout",
     "output_type": "stream",
     "text": [
      "2020-10-17 02:04:07,281 INFO sqlalchemy.engine.base.Engine SELECT avg(\"Sailors\".age) AS avg_1 \n",
      "FROM \"Sailors\" \n",
      "WHERE \"Sailors\".rating = ?\n",
      "2020-10-17 02:04:07,282 INFO sqlalchemy.engine.base.Engine (10,)\n"
     ]
    }
   ],
   "source": [
    "sixthQueryTest(Sailor)"
   ]
  },
  {
   "cell_type": "code",
   "execution_count": 112,
   "metadata": {},
   "outputs": [
    {
     "name": "stdout",
     "output_type": "stream",
     "text": [
      "2020-10-17 02:04:07,626 INFO sqlalchemy.engine.base.Engine SELECT DISTINCT \"Sailors\".rating AS \"Sailors_rating\" \n",
      "FROM \"Sailors\"\n",
      "2020-10-17 02:04:07,627 INFO sqlalchemy.engine.base.Engine ()\n",
      "2020-10-17 02:04:07,629 INFO sqlalchemy.engine.base.Engine SELECT DISTINCT \"Sailors\".rating AS \"Sailors_rating\" \n",
      "FROM \"Sailors\"\n",
      "2020-10-17 02:04:07,630 INFO sqlalchemy.engine.base.Engine ()\n",
      "2020-10-17 02:04:07,631 INFO sqlalchemy.engine.base.Engine SELECT \"Sailors\".age AS \"Sailors_age\" \n",
      "FROM \"Sailors\" \n",
      "WHERE \"Sailors\".rating = ? GROUP BY \"Sailors\".age\n",
      " LIMIT ? OFFSET ?\n",
      "2020-10-17 02:04:07,632 INFO sqlalchemy.engine.base.Engine (7, 1, 0)\n",
      "2020-10-17 02:04:07,634 INFO sqlalchemy.engine.base.Engine SELECT DISTINCT \"Sailors\".rating AS \"Sailors_rating\" \n",
      "FROM \"Sailors\"\n",
      "2020-10-17 02:04:07,635 INFO sqlalchemy.engine.base.Engine ()\n",
      "2020-10-17 02:04:07,637 INFO sqlalchemy.engine.base.Engine SELECT \"Sailors\".sname AS \"Sailors_sname\", \"Sailors\".sid AS \"Sailors_sid\" \n",
      "FROM \"Sailors\" \n",
      "WHERE \"Sailors\".rating = ? AND \"Sailors\".age IN (?)\n",
      " LIMIT ? OFFSET ?\n",
      "2020-10-17 02:04:07,638 INFO sqlalchemy.engine.base.Engine (7, 16, 1, 0)\n",
      "2020-10-17 02:04:07,639 INFO sqlalchemy.engine.base.Engine SELECT DISTINCT \"Sailors\".rating AS \"Sailors_rating\" \n",
      "FROM \"Sailors\"\n",
      "2020-10-17 02:04:07,640 INFO sqlalchemy.engine.base.Engine ()\n",
      "2020-10-17 02:04:07,642 INFO sqlalchemy.engine.base.Engine SELECT \"Sailors\".age AS \"Sailors_age\" \n",
      "FROM \"Sailors\" \n",
      "WHERE \"Sailors\".rating = ? GROUP BY \"Sailors\".age\n",
      " LIMIT ? OFFSET ?\n",
      "2020-10-17 02:04:07,643 INFO sqlalchemy.engine.base.Engine (1, 1, 0)\n",
      "2020-10-17 02:04:07,645 INFO sqlalchemy.engine.base.Engine SELECT DISTINCT \"Sailors\".rating AS \"Sailors_rating\" \n",
      "FROM \"Sailors\"\n",
      "2020-10-17 02:04:07,645 INFO sqlalchemy.engine.base.Engine ()\n",
      "2020-10-17 02:04:07,647 INFO sqlalchemy.engine.base.Engine SELECT \"Sailors\".sname AS \"Sailors_sname\", \"Sailors\".sid AS \"Sailors_sid\" \n",
      "FROM \"Sailors\" \n",
      "WHERE \"Sailors\".rating = ? AND \"Sailors\".age IN (?)\n",
      " LIMIT ? OFFSET ?\n",
      "2020-10-17 02:04:07,648 INFO sqlalchemy.engine.base.Engine (1, 33, 1, 0)\n",
      "2020-10-17 02:04:07,650 INFO sqlalchemy.engine.base.Engine SELECT DISTINCT \"Sailors\".rating AS \"Sailors_rating\" \n",
      "FROM \"Sailors\"\n",
      "2020-10-17 02:04:07,650 INFO sqlalchemy.engine.base.Engine ()\n",
      "2020-10-17 02:04:07,652 INFO sqlalchemy.engine.base.Engine SELECT \"Sailors\".age AS \"Sailors_age\" \n",
      "FROM \"Sailors\" \n",
      "WHERE \"Sailors\".rating = ? GROUP BY \"Sailors\".age\n",
      " LIMIT ? OFFSET ?\n",
      "2020-10-17 02:04:07,652 INFO sqlalchemy.engine.base.Engine (8, 1, 0)\n",
      "2020-10-17 02:04:07,654 INFO sqlalchemy.engine.base.Engine SELECT DISTINCT \"Sailors\".rating AS \"Sailors_rating\" \n",
      "FROM \"Sailors\"\n",
      "2020-10-17 02:04:07,655 INFO sqlalchemy.engine.base.Engine ()\n",
      "2020-10-17 02:04:07,657 INFO sqlalchemy.engine.base.Engine SELECT \"Sailors\".sname AS \"Sailors_sname\", \"Sailors\".sid AS \"Sailors_sid\" \n",
      "FROM \"Sailors\" \n",
      "WHERE \"Sailors\".rating = ? AND \"Sailors\".age IN (?)\n",
      " LIMIT ? OFFSET ?\n",
      "2020-10-17 02:04:07,658 INFO sqlalchemy.engine.base.Engine (8, 25.5, 1, 0)\n",
      "2020-10-17 02:04:07,661 INFO sqlalchemy.engine.base.Engine SELECT DISTINCT \"Sailors\".rating AS \"Sailors_rating\" \n",
      "FROM \"Sailors\"\n",
      "2020-10-17 02:04:07,662 INFO sqlalchemy.engine.base.Engine ()\n",
      "2020-10-17 02:04:07,664 INFO sqlalchemy.engine.base.Engine SELECT \"Sailors\".age AS \"Sailors_age\" \n",
      "FROM \"Sailors\" \n",
      "WHERE \"Sailors\".rating = ? GROUP BY \"Sailors\".age\n",
      " LIMIT ? OFFSET ?\n",
      "2020-10-17 02:04:07,665 INFO sqlalchemy.engine.base.Engine (10, 1, 0)\n",
      "2020-10-17 02:04:07,666 INFO sqlalchemy.engine.base.Engine SELECT DISTINCT \"Sailors\".rating AS \"Sailors_rating\" \n",
      "FROM \"Sailors\"\n",
      "2020-10-17 02:04:07,666 INFO sqlalchemy.engine.base.Engine ()\n",
      "2020-10-17 02:04:07,668 INFO sqlalchemy.engine.base.Engine SELECT \"Sailors\".sname AS \"Sailors_sname\", \"Sailors\".sid AS \"Sailors_sid\" \n",
      "FROM \"Sailors\" \n",
      "WHERE \"Sailors\".rating = ? AND \"Sailors\".age IN (?)\n",
      " LIMIT ? OFFSET ?\n",
      "2020-10-17 02:04:07,669 INFO sqlalchemy.engine.base.Engine (10, 35, 1, 0)\n",
      "2020-10-17 02:04:07,670 INFO sqlalchemy.engine.base.Engine SELECT DISTINCT \"Sailors\".rating AS \"Sailors_rating\" \n",
      "FROM \"Sailors\"\n",
      "2020-10-17 02:04:07,670 INFO sqlalchemy.engine.base.Engine ()\n",
      "2020-10-17 02:04:07,672 INFO sqlalchemy.engine.base.Engine SELECT \"Sailors\".age AS \"Sailors_age\" \n",
      "FROM \"Sailors\" \n",
      "WHERE \"Sailors\".rating = ? GROUP BY \"Sailors\".age\n",
      " LIMIT ? OFFSET ?\n",
      "2020-10-17 02:04:07,673 INFO sqlalchemy.engine.base.Engine (9, 1, 0)\n",
      "2020-10-17 02:04:07,675 INFO sqlalchemy.engine.base.Engine SELECT DISTINCT \"Sailors\".rating AS \"Sailors_rating\" \n",
      "FROM \"Sailors\"\n",
      "2020-10-17 02:04:07,675 INFO sqlalchemy.engine.base.Engine ()\n",
      "2020-10-17 02:04:07,677 INFO sqlalchemy.engine.base.Engine SELECT \"Sailors\".sname AS \"Sailors_sname\", \"Sailors\".sid AS \"Sailors_sid\" \n",
      "FROM \"Sailors\" \n",
      "WHERE \"Sailors\".rating = ? AND \"Sailors\".age IN (?)\n",
      " LIMIT ? OFFSET ?\n",
      "2020-10-17 02:04:07,678 INFO sqlalchemy.engine.base.Engine (9, 25.5, 1, 0)\n",
      "2020-10-17 02:04:07,680 INFO sqlalchemy.engine.base.Engine SELECT DISTINCT \"Sailors\".rating AS \"Sailors_rating\" \n",
      "FROM \"Sailors\"\n",
      "2020-10-17 02:04:07,680 INFO sqlalchemy.engine.base.Engine ()\n",
      "2020-10-17 02:04:07,682 INFO sqlalchemy.engine.base.Engine SELECT \"Sailors\".age AS \"Sailors_age\" \n",
      "FROM \"Sailors\" \n",
      "WHERE \"Sailors\".rating = ? GROUP BY \"Sailors\".age\n",
      " LIMIT ? OFFSET ?\n",
      "2020-10-17 02:04:07,683 INFO sqlalchemy.engine.base.Engine (3, 1, 0)\n",
      "2020-10-17 02:04:07,685 INFO sqlalchemy.engine.base.Engine SELECT DISTINCT \"Sailors\".rating AS \"Sailors_rating\" \n",
      "FROM \"Sailors\"\n",
      "2020-10-17 02:04:07,685 INFO sqlalchemy.engine.base.Engine ()\n",
      "2020-10-17 02:04:07,687 INFO sqlalchemy.engine.base.Engine SELECT \"Sailors\".sname AS \"Sailors_sname\", \"Sailors\".sid AS \"Sailors_sid\" \n",
      "FROM \"Sailors\" \n",
      "WHERE \"Sailors\".rating = ? AND \"Sailors\".age IN (?)\n",
      " LIMIT ? OFFSET ?\n",
      "2020-10-17 02:04:07,688 INFO sqlalchemy.engine.base.Engine (3, 25.5, 1, 0)\n"
     ]
    }
   ],
   "source": [
    "seventhQueryTest(Sailor)"
   ]
  },
  {
   "cell_type": "code",
   "execution_count": 113,
   "metadata": {},
   "outputs": [
    {
     "name": "stdout",
     "output_type": "stream",
     "text": [
      "2020-10-17 02:04:08,264 INFO sqlalchemy.engine.base.Engine SELECT DISTINCT \"Boats\".bname AS \"Boats_bname\" \n",
      "FROM \"Boats\"\n",
      "2020-10-17 02:04:08,265 INFO sqlalchemy.engine.base.Engine ()\n",
      "2020-10-17 02:04:08,267 INFO sqlalchemy.engine.base.Engine SELECT DISTINCT \"Boats\".bname AS \"Boats_bname\" \n",
      "FROM \"Boats\"\n",
      "2020-10-17 02:04:08,267 INFO sqlalchemy.engine.base.Engine ()\n",
      "2020-10-17 02:04:08,269 INFO sqlalchemy.engine.base.Engine SELECT count(\"Reserves\".bid) AS count_1, \"Boats\".bname AS \"Boats_bname\", \"Sailors\".sname AS \"Sailors_sname\" \n",
      "FROM \"Reserves\" JOIN \"Sailors\" ON \"Sailors\".sid = \"Reserves\".sid JOIN \"Boats\" ON \"Boats\".bid = \"Reserves\".bid \n",
      "WHERE \"Boats\".bname = ? GROUP BY \"Boats\".bname, \"Sailors\".sname\n",
      " LIMIT ? OFFSET ?\n",
      "2020-10-17 02:04:08,269 INFO sqlalchemy.engine.base.Engine ('Interlake', 1, 0)\n",
      "2020-10-17 02:04:08,272 INFO sqlalchemy.engine.base.Engine SELECT DISTINCT \"Boats\".bname AS \"Boats_bname\" \n",
      "FROM \"Boats\"\n",
      "2020-10-17 02:04:08,273 INFO sqlalchemy.engine.base.Engine ()\n",
      "2020-10-17 02:04:08,275 INFO sqlalchemy.engine.base.Engine SELECT count(\"Reserves\".bid) AS count_1, \"Boats\".bname AS \"Boats_bname\", \"Sailors\".sname AS \"Sailors_sname\" \n",
      "FROM \"Reserves\" JOIN \"Sailors\" ON \"Sailors\".sid = \"Reserves\".sid JOIN \"Boats\" ON \"Boats\".bid = \"Reserves\".bid \n",
      "WHERE \"Boats\".bname = ? GROUP BY \"Boats\".bname, \"Sailors\".sname\n",
      " LIMIT ? OFFSET ?\n",
      "2020-10-17 02:04:08,275 INFO sqlalchemy.engine.base.Engine ('Clipper', 1, 0)\n",
      "2020-10-17 02:04:08,277 INFO sqlalchemy.engine.base.Engine SELECT DISTINCT \"Boats\".bname AS \"Boats_bname\" \n",
      "FROM \"Boats\"\n",
      "2020-10-17 02:04:08,278 INFO sqlalchemy.engine.base.Engine ()\n",
      "2020-10-17 02:04:08,280 INFO sqlalchemy.engine.base.Engine SELECT count(\"Reserves\".bid) AS count_1, \"Boats\".bname AS \"Boats_bname\", \"Sailors\".sname AS \"Sailors_sname\" \n",
      "FROM \"Reserves\" JOIN \"Sailors\" ON \"Sailors\".sid = \"Reserves\".sid JOIN \"Boats\" ON \"Boats\".bid = \"Reserves\".bid \n",
      "WHERE \"Boats\".bname = ? GROUP BY \"Boats\".bname, \"Sailors\".sname\n",
      " LIMIT ? OFFSET ?\n",
      "2020-10-17 02:04:08,281 INFO sqlalchemy.engine.base.Engine ('Marine', 1, 0)\n",
      "2020-10-17 02:04:08,284 INFO sqlalchemy.engine.base.Engine SELECT DISTINCT \"Boats\".bname AS \"Boats_bname\" \n",
      "FROM \"Boats\"\n",
      "2020-10-17 02:04:08,285 INFO sqlalchemy.engine.base.Engine ()\n",
      "2020-10-17 02:04:08,286 INFO sqlalchemy.engine.base.Engine SELECT count(\"Reserves\".bid) AS count_1, \"Boats\".bname AS \"Boats_bname\", \"Sailors\".sname AS \"Sailors_sname\" \n",
      "FROM \"Reserves\" JOIN \"Sailors\" ON \"Sailors\".sid = \"Reserves\".sid JOIN \"Boats\" ON \"Boats\".bid = \"Reserves\".bid \n",
      "WHERE \"Boats\".bname = ? GROUP BY \"Boats\".bname, \"Sailors\".sname\n",
      " LIMIT ? OFFSET ?\n",
      "2020-10-17 02:04:08,287 INFO sqlalchemy.engine.base.Engine ('Driftwood', 1, 0)\n",
      "2020-10-17 02:04:08,288 INFO sqlalchemy.engine.base.Engine SELECT DISTINCT \"Boats\".bname AS \"Boats_bname\" \n",
      "FROM \"Boats\"\n",
      "2020-10-17 02:04:08,289 INFO sqlalchemy.engine.base.Engine ()\n",
      "2020-10-17 02:04:08,290 INFO sqlalchemy.engine.base.Engine SELECT count(\"Reserves\".bid) AS count_1, \"Boats\".bname AS \"Boats_bname\", \"Sailors\".sname AS \"Sailors_sname\" \n",
      "FROM \"Reserves\" JOIN \"Sailors\" ON \"Sailors\".sid = \"Reserves\".sid JOIN \"Boats\" ON \"Boats\".bid = \"Reserves\".bid \n",
      "WHERE \"Boats\".bname = ? GROUP BY \"Boats\".bname, \"Sailors\".sname\n",
      " LIMIT ? OFFSET ?\n",
      "2020-10-17 02:04:08,291 INFO sqlalchemy.engine.base.Engine ('Klapser', 1, 0)\n",
      "2020-10-17 02:04:08,293 INFO sqlalchemy.engine.base.Engine SELECT DISTINCT \"Boats\".bname AS \"Boats_bname\" \n",
      "FROM \"Boats\"\n",
      "2020-10-17 02:04:08,293 INFO sqlalchemy.engine.base.Engine ()\n",
      "2020-10-17 02:04:08,294 INFO sqlalchemy.engine.base.Engine SELECT count(\"Reserves\".bid) AS count_1, \"Boats\".bname AS \"Boats_bname\", \"Sailors\".sname AS \"Sailors_sname\" \n",
      "FROM \"Reserves\" JOIN \"Sailors\" ON \"Sailors\".sid = \"Reserves\".sid JOIN \"Boats\" ON \"Boats\".bid = \"Reserves\".bid \n",
      "WHERE \"Boats\".bname = ? GROUP BY \"Boats\".bname, \"Sailors\".sname\n",
      " LIMIT ? OFFSET ?\n",
      "2020-10-17 02:04:08,294 INFO sqlalchemy.engine.base.Engine ('Sooney', 1, 0)\n"
     ]
    }
   ],
   "source": [
    "eighthQueryTest(Sailor,Boat,Reservation)"
   ]
  },
  {
   "cell_type": "code",
   "execution_count": 114,
   "metadata": {},
   "outputs": [],
   "source": [
    "def campaignPerformanceDay(itype=\"all\",inventory_date = None):\n",
    "    if(itype == \"one\"):\n",
    "        return session.query(func.sum(Boat.price_per_hour * (Reservation.time_out - Reservation.time_in)),Reservation.day,Campaign.advertisements,Campaign.sales).\\\n",
    "    select_from(Reservation).join(Boat).join(Campaign, Reservation.day == Campaign.date).filter(Reservation.day == inventory_date).all() \n",
    "    if(itype == \"all\"):\n",
    "        return session.query(func.sum(Boat.price_per_hour * (Reservation.time_out - Reservation.time_in)),Reservation.day,Campaign.advertisements,Campaign.sales).\\\n",
    "    select_from(Reservation).join(Boat).join(Campaign, Reservation.day == Campaign.date).group_by(Reservation.day).all() "
   ]
  },
  {
   "cell_type": "code",
   "execution_count": 115,
   "metadata": {},
   "outputs": [],
   "source": [
    "import datetime as dt\n",
    "\n",
    "#assumes no nonetype values\n",
    "def campaignPerformanceOverTime(days=0,itype=\"all\",inventory_date = None):\n",
    "\n",
    "    if(itype == \"one\"):\n",
    "        x = []\n",
    "        for i in range(days):\n",
    "            x.append(session.query(func.sum(Boat.price_per_hour*(Reservation.time_out - Reservation.time_in)),Reservation.day).\\\n",
    "                     select_from(Reservation).join(Boat).filter(Reservation.day == inventory_date-dt.timedelta(i+1)).all())\n",
    "        sum_before = 0\n",
    "        for i in range(days):\n",
    "            sum_before+=x[i][0][0]\n",
    "        x = []\n",
    "        for i in range(days):\n",
    "            x.append(session.query(func.sum(Boat.price_per_hour*(Reservation.time_out - Reservation.time_in)),Reservation.day).\\\n",
    "                     select_from(Reservation).join(Boat).filter(Reservation.day == inventory_date+dt.timedelta(i+1)).all())\n",
    "        sum_after = 0\n",
    "        for i in range(days):\n",
    "            sum_after+=x[i][0][0]\n",
    "        return f\"the revenue before is {sum_before} and the revenue after is {sum_after}\"\n",
    "    if(itype == \"all\"):\n",
    "        g = []\n",
    "        h =[]\n",
    "        for i in range(len(session.query(Campaign.date).select_from(Campaign).all())):\n",
    "            g.append(session.query(Campaign.date).select_from(Campaign).all()[i][0])\n",
    "        for j in g:\n",
    "            x= []\n",
    "            for i in range(days):\n",
    "                x.append(session.query(func.sum(Boat.price_per_hour*(Reservation.time_out - Reservation.time_in)),Reservation.day).\\\n",
    "                         select_from(Reservation).join(Boat).filter(Reservation.day == j-dt.timedelta(i+1)).all())\n",
    "            sum_before = 0\n",
    "            for i in range(days):\n",
    "                sum_before+=x[i][0][0]\n",
    "            x=[]\n",
    "            for i in range(days):\n",
    "                x.append(session.query(func.sum(Boat.price_per_hour*(Reservation.time_out - Reservation.time_in)),Reservation.day).\\\n",
    "                         select_from(Reservation).join(Boat).filter(Reservation.day == j+dt.timedelta(i+1)).all())\n",
    "            sum_after = 0\n",
    "            for i in range(days):\n",
    "                sum_after+=x[i][0][0]\n",
    "            h.append([sum_before,sum_after,j,days])\n",
    "            print(f\"there was {sum_before} {days} days before {j} and {sum_after} {days} days after {j}\")\n",
    "            \n",
    "        return h\n",
    "    \n",
    "    #"
   ]
  },
  {
   "cell_type": "code",
   "execution_count": 116,
   "metadata": {},
   "outputs": [
    {
     "name": "stdout",
     "output_type": "stream",
     "text": [
      "2020-10-17 02:04:10,698 INFO sqlalchemy.engine.base.Engine SELECT sum(\"Boats\".price_per_hour * (\"Reserves\".time_out - \"Reserves\".time_in)) AS sum_1, \"Reserves\".day AS \"Reserves_day\" \n",
      "FROM \"Reserves\" JOIN \"Boats\" ON \"Boats\".bid = \"Reserves\".bid \n",
      "WHERE \"Reserves\".day = ?\n",
      "2020-10-17 02:04:10,699 INFO sqlalchemy.engine.base.Engine ('1998-10-09',)\n",
      "2020-10-17 02:04:10,701 INFO sqlalchemy.engine.base.Engine SELECT sum(\"Boats\".price_per_hour * (\"Reserves\".time_out - \"Reserves\".time_in)) AS sum_1, \"Reserves\".day AS \"Reserves_day\" \n",
      "FROM \"Reserves\" JOIN \"Boats\" ON \"Boats\".bid = \"Reserves\".bid \n",
      "WHERE \"Reserves\".day = ?\n",
      "2020-10-17 02:04:10,702 INFO sqlalchemy.engine.base.Engine ('1998-10-11',)\n"
     ]
    },
    {
     "data": {
      "text/plain": [
       "'the revenue before is 80 and the revenue after is 40'"
      ]
     },
     "execution_count": 116,
     "metadata": {},
     "output_type": "execute_result"
    }
   ],
   "source": [
    "campaignPerformanceOverTime(days = 1, itype = \"one\", inventory_date = date(1998,10,10))"
   ]
  },
  {
   "cell_type": "code",
   "execution_count": 117,
   "metadata": {},
   "outputs": [
    {
     "name": "stdout",
     "output_type": "stream",
     "text": [
      "2020-10-17 02:04:11,483 INFO sqlalchemy.engine.base.Engine SELECT sum(\"Boats\".price_per_hour * (\"Reserves\".time_out - \"Reserves\".time_in)) AS sum_1, \"Reserves\".day AS \"Reserves_day\", campaigns.advertisements AS campaigns_advertisements, campaigns.sales AS campaigns_sales \n",
      "FROM \"Reserves\" JOIN \"Boats\" ON \"Boats\".bid = \"Reserves\".bid JOIN campaigns ON \"Reserves\".day = campaigns.date GROUP BY \"Reserves\".day\n",
      "2020-10-17 02:04:11,484 INFO sqlalchemy.engine.base.Engine ()\n"
     ]
    },
    {
     "data": {
      "text/plain": [
       "[(160, datetime.date(1998, 7, 10), False, True),\n",
       " (100, datetime.date(1998, 9, 5), False, True),\n",
       " (370, datetime.date(1998, 9, 8), True, False),\n",
       " (290, datetime.date(1998, 10, 10), True, False),\n",
       " (240, datetime.date(1998, 11, 12), False, True)]"
      ]
     },
     "execution_count": 117,
     "metadata": {},
     "output_type": "execute_result"
    }
   ],
   "source": [
    "campaignPerformanceDay()"
   ]
  },
  {
   "cell_type": "code",
   "execution_count": 129,
   "metadata": {},
   "outputs": [],
   "source": [
    "def latesDesc():\n",
    "    return session.query(func.count(Schedule.schedule_id),Schedule.name).\\\n",
    "    select_from(Schedule).\\\n",
    "    filter(Schedule.signed_out-Schedule.signed_in < (17-9)).group_by(Schedule.name).\\\n",
    "    order_by(func.count(Schedule.schedule_id).desc()).all()"
   ]
  },
  {
   "cell_type": "code",
   "execution_count": 143,
   "metadata": {},
   "outputs": [],
   "source": [
    "def salesAsc():\n",
    "    return session.query(func.sum(Boat.price_per_hour * (Reservation.time_out - Reservation.time_in)),Schedule.name).\\\n",
    "    select_from(Reservation).join(Boat).join(Schedule).\\\n",
    "    group_by(Schedule.name).order_by(func.sum(Boat.price_per_hour * (Reservation.time_out - Reservation.time_in))).all()"
   ]
  },
  {
   "cell_type": "code",
   "execution_count": 149,
   "metadata": {},
   "outputs": [],
   "source": [
    "def firingProcess(priority = 'lates'):\n",
    "    if(priority == 'lates'):\n",
    "        return (latesDesc()[0][1])\n",
    "    if(priority == 'sales'):\n",
    "        return (salesAsc()[0][1])    "
   ]
  },
  {
   "cell_type": "code",
   "execution_count": 150,
   "metadata": {},
   "outputs": [
    {
     "name": "stdout",
     "output_type": "stream",
     "text": [
      "2020-10-17 02:26:58,265 INFO sqlalchemy.engine.base.Engine SELECT count(schedule.schedule_id) AS count_1, schedule.name AS schedule_name \n",
      "FROM schedule \n",
      "WHERE schedule.signed_out - schedule.signed_in < ? GROUP BY schedule.name ORDER BY count(schedule.schedule_id) DESC\n",
      "2020-10-17 02:26:58,266 INFO sqlalchemy.engine.base.Engine (8,)\n"
     ]
    },
    {
     "data": {
      "text/plain": [
       "'Richard'"
      ]
     },
     "execution_count": 150,
     "metadata": {},
     "output_type": "execute_result"
    }
   ],
   "source": [
    "firingProcess()"
   ]
  },
  {
   "cell_type": "code",
   "execution_count": null,
   "metadata": {},
   "outputs": [],
   "source": [
    "def boat_availability(boat,date):\n",
    "    if(len(session.query(Boat).join(Reservation).filter(and_(Boat.bname == boat,Reservation.time_out.isnot(None),Reservation.day == date)).all()) > 0:\n",
    "       return True\n",
    "    else:\n",
    "       return False"
   ]
  }
 ],
 "metadata": {
  "kernelspec": {
   "display_name": "Python 3",
   "language": "python",
   "name": "python3"
  },
  "language_info": {
   "codemirror_mode": {
    "name": "ipython",
    "version": 3
   },
   "file_extension": ".py",
   "mimetype": "text/x-python",
   "name": "python",
   "nbconvert_exporter": "python",
   "pygments_lexer": "ipython3",
   "version": "3.7.6"
  }
 },
 "nbformat": 4,
 "nbformat_minor": 4
}
