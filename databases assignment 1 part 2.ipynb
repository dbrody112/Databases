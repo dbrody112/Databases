{
 "cells": [
  {
   "cell_type": "code",
   "execution_count": 1,
   "metadata": {},
   "outputs": [],
   "source": [
    "#Create a Sailors and Boats dataset in Python\n",
    "#@eugsokolov\n",
    "\n",
    "\n",
    "#create a new sqlite database\n",
    "#create database fixture\n",
    "from sqlalchemy import create_engine\n",
    "from sqlalchemy.orm import sessionmaker\n",
    "\n",
    "engine = create_engine('sqlite:///sailors.db',echo = True)\n",
    "\n",
    "Session = sessionmaker(bind = engine)\n",
    "session = Session()\n",
    "\n",
    "sailors = [\n",
    "\t(22,\"dusting\",7,45.0),\n",
    "\t(23,\"emilio\",7,45.0),\n",
    "\t(24,\"scruntus\",1,33.0),\n",
    "\t(29,\"brutus\",1,33.0),\n",
    "\t(31,\"lubber\",8,55.5),\n",
    "\t(32,\"andy\",8,25.5),\n",
    "\t(35,\"figaro\",8,55.5),\n",
    "\t(58,\"rusty\",10,35),\n",
    "\t(59,\"stum\",8,25.5),\n",
    "\t(60,\"jit\",10,35),\n",
    "\t(61,\"ossola\",7,16),\n",
    "\t(62,\"shaun\",10,35),\n",
    "\t(64,\"horatio\",7,16),\n",
    "\t(71,\"zorba\",10,35),\n",
    "\t(74,\"horatio\",9,25.5),\n",
    "\t(85,\"art\",3,25.5),\n",
    "\t(88,\"kevin\",3,25.5),\n",
    "\t(89,\"will\",3,25.5),\n",
    "\t(90,\"josh\",3,25.5),\n",
    "\t(95,\"bob\",3,63.5),\n",
    "]\n",
    "\n",
    "boats = [\n",
    "\t(101,'Interlake','blue',45),\n",
    "\t(102,'Interlake','red',45),\n",
    "\t(103,'Clipper','green',40),\n",
    "\t(104,'Clipper','red',40),\n",
    "\t(105,'Marine','red',35),\n",
    "\t(106,'Marine','green',35),\n",
    "\t(107,'Marine','blue',35),\n",
    "\t(108,'Driftwood','red',35),\n",
    "\t(109,'Driftwood','blue',35),\n",
    "\t(110,'Klapser','red',30),\n",
    "\t(111,'Sooney','green',28),\n",
    "\t(112,'Sooney','red',28),\n",
    "]\n",
    "\n",
    "reserves = [\n",
    "\t(22,101,\"1998-10-10\"),\n",
    "\t(22,102,\"1998-10-10\"),\n",
    "\t(22,103,\"1998-08-10\"),\n",
    "\t(22,104,\"1998-07-10\"),\n",
    "\t(23,104,\"1998-10-10\"),\n",
    "\t(23,105,\"1998-11-10\"),\n",
    "\t(24,104,\"1998-10-10\"),\n",
    "\t(31,102,\"1998-11-10\"),\n",
    "\t(31,103,\"1998-11-06\"),\n",
    "\t(31,104,\"1998-11-12\"),\n",
    "\t(35,104,\"1998-08-10\"),\n",
    "\t(35,105,\"1998-11-06\"),\n",
    "\t(59,105,\"1998-07-10\"),\n",
    "\t(59,106,\"1998-11-12\"),\n",
    "\t(59,109,\"1998-11-10\"),\n",
    "\t(60,106,\"1998-09-05\"),\n",
    "\t(60,106,\"1998-09-08\"),\n",
    "\t(60,109,\"1998-07-10\"),\n",
    "\t(61,112,\"1998-09-08\"),\n",
    "\t(62,110,\"1998-11-06\"),\n",
    "\t(64,101,\"1998-09-05\"),\n",
    "\t(64,102,\"1998-09-08\"),\n",
    "\t(74,103,\"1998-09-08\"),\n",
    "\t(88,107,\"1998-09-08\"),\n",
    "\t(88,110,\"1998-09-05\"),\n",
    "\t(88,110,\"1998-11-12\"),\n",
    "\t(88,111,\"1998-09-08\"),\n",
    "\t(89,108,\"1998-10-10\"),\n",
    "\t(89,109,\"1998-08-10\"),\n",
    "\t(90,109,\"1998-10-10\"),\n",
    "]\n",
    "\n",
    "from sqlalchemy import Column, Integer, String,Date,Float\n",
    "from sqlalchemy import Table, MetaData\n",
    "meta = MetaData()\n",
    "from sqlalchemy.ext.declarative import as_declarative\n",
    "from sqlalchemy.ext.declarative.api import declared_attr\n",
    "from datetime import date\n",
    "\n",
    "@as_declarative()\n",
    "class Base(object):\n",
    "    @declared_attr\n",
    "    def __tablename__(cls):\n",
    "        return cls.__name__.lower()\n",
    "    @declared_attr\n",
    "    def __table_args__(cls):\n",
    "        return {'extend_existing':True}\n",
    "\n",
    "#implement create table\n",
    "dates = []\n",
    "for (i,b,v) in reserves:\n",
    "    dates.append(date(int(v[:4]), int(v[5:7]), int(v[8:10])))"
   ]
  },
  {
   "cell_type": "code",
   "execution_count": 2,
   "metadata": {},
   "outputs": [],
   "source": [
    "from sqlalchemy import ForeignKey\n",
    "class Sailor(Base):\n",
    "    \n",
    "    __tablename__ = 'Sailors'\n",
    "    \n",
    "    sid = Column(Integer, primary_key=True)\n",
    "    sname = Column(String)\n",
    "    rating = Column(Integer)\n",
    "    age = Column(Integer)\n",
    "    \n",
    "    def __repr__(self):\n",
    "        return \"<User(id='%d', name='%s', rating='%d', age = %s)>\" % (\n",
    "                             self.sid, self.sname, self.rating,self.age)\n",
    "\n",
    "class Reservation(Base):\n",
    "    \n",
    "    __tablename__ = 'Reserves'\n",
    "    \n",
    "    sid = Column(Integer,ForeignKey('Sailors.sid'),primary_key=True)\n",
    "    bid = Column(Integer,ForeignKey('Boats.bid'), primary_key=True)\n",
    "    day = Column(Date, primary_key=True)\n",
    "    \n",
    "    def __repr__(self):\n",
    "        return \"<User(boat id='%d', sailor id ='%d', day ='%s')>\" % (\n",
    "                             self.bid, self.sid, self.day)\n",
    "    \n",
    "class Boat(Base):\n",
    "    \n",
    "    __tablename__ = 'Boats'\n",
    "    \n",
    "    bid = Column(Integer, primary_key=True)\n",
    "    bname = Column(String)\n",
    "    color = Column(String)\n",
    "    length = Column(Integer)\n",
    "    \n",
    "    def __repr__(self):\n",
    "        return \"<User(boat id='%d', boat name ='%s',color ='%s', length = '%d')>\" % (\n",
    "                             self.bid, self.bname, self.color,self.length)\n"
   ]
  },
  {
   "cell_type": "code",
   "execution_count": 3,
   "metadata": {},
   "outputs": [
    {
     "name": "stdout",
     "output_type": "stream",
     "text": [
      "2020-10-15 00:49:33,008 INFO sqlalchemy.engine.base.Engine SELECT CAST('test plain returns' AS VARCHAR(60)) AS anon_1\n",
      "2020-10-15 00:49:33,011 INFO sqlalchemy.engine.base.Engine ()\n",
      "2020-10-15 00:49:33,012 INFO sqlalchemy.engine.base.Engine SELECT CAST('test unicode returns' AS VARCHAR(60)) AS anon_1\n",
      "2020-10-15 00:49:33,013 INFO sqlalchemy.engine.base.Engine ()\n",
      "2020-10-15 00:49:33,015 INFO sqlalchemy.engine.base.Engine PRAGMA main.table_info(\"Sailors\")\n",
      "2020-10-15 00:49:33,015 INFO sqlalchemy.engine.base.Engine ()\n",
      "2020-10-15 00:49:33,017 INFO sqlalchemy.engine.base.Engine PRAGMA main.table_info(\"Reserves\")\n",
      "2020-10-15 00:49:33,017 INFO sqlalchemy.engine.base.Engine ()\n",
      "2020-10-15 00:49:33,018 INFO sqlalchemy.engine.base.Engine PRAGMA main.table_info(\"Boats\")\n",
      "2020-10-15 00:49:33,019 INFO sqlalchemy.engine.base.Engine ()\n"
     ]
    }
   ],
   "source": [
    "Base.metadata.create_all(engine)"
   ]
  },
  {
   "cell_type": "code",
   "execution_count": null,
   "metadata": {},
   "outputs": [],
   "source": [
    "for(sid,sname,rating,age) in sailors:\n",
    "    session.add(Sailor(sid = sid, sname = sname, rating = rating, age = age))"
   ]
  },
  {
   "cell_type": "code",
   "execution_count": null,
   "metadata": {},
   "outputs": [],
   "source": [
    "session.commit()"
   ]
  },
  {
   "cell_type": "code",
   "execution_count": null,
   "metadata": {},
   "outputs": [],
   "source": [
    "for(sid,bid,v) in reserves:\n",
    "    session.add(Reservation(sid=sid,bid=bid,day=date(int(v[:4]), int(v[5:7]), int(v[8:10]))))\n"
   ]
  },
  {
   "cell_type": "code",
   "execution_count": null,
   "metadata": {},
   "outputs": [],
   "source": [
    "session.commit()"
   ]
  },
  {
   "cell_type": "code",
   "execution_count": null,
   "metadata": {},
   "outputs": [],
   "source": [
    "for (bid, bname, color, length) in boats:\n",
    "    session.add(Boat(bid=bid, bname = bname, color = color, length = length))"
   ]
  },
  {
   "cell_type": "code",
   "execution_count": null,
   "metadata": {},
   "outputs": [],
   "source": [
    "session.commit()"
   ]
  },
  {
   "cell_type": "code",
   "execution_count": 345,
   "metadata": {},
   "outputs": [],
   "source": [
    "from sqlalchemy.sql import select\n",
    "from sqlalchemy import func\n",
    "from sqlalchemy import case\n",
    "from sqlalchemy import and_\n",
    "\n",
    "conn = engine.connect()\n",
    "\n",
    "expr = case(\n",
    "        [\n",
    "            ((Boat.color == \"red\"), 1),\n",
    "        ],\n",
    "        else_=0,\n",
    "    )\n",
    "\n",
    "def firstQueryTest(Boat,Reservation):\n",
    "    assert len(session.query(Boat.bname,func.count(Boat.bname)).\\\n",
    "               select_from(Boat).join(Reservation, Boat.bid == Reservation.bid).\\\n",
    "               group_by(Boat.bname).all()) == 6\n",
    "\n",
    "def secondQueryTest(Sailor,Boat,Reservation):\n",
    "    \n",
    "    subquery = session.query(func.count(Boat.bname)).\\\n",
    "    select_from(Boat).filter(Boat.color == \"red\").subquery()\n",
    "    \n",
    "    assert len(session.query(Sailor.sname,Sailor.sid).\n",
    "     select_from(Reservation).join(Boat).join(Sailor).\\\n",
    "    group_by(Sailor.sname,Sailor.sid).\\\n",
    "    having(func.sum(expr) == subquery).all()) == 0\n",
    "\n",
    "def thirdQueryTest(Sailor,Boat,Reservation):\n",
    "    assert len(session.query(Sailor.sname,Sailor.sid).\n",
    "    select_from(Reservation).join(Boat).join(Sailor).\\\n",
    "    group_by(Sailor.sname,Sailor.sid).\\\n",
    "    having(func.sum(expr) == func.count(Boat.color)).all()) == 5\n",
    "\n",
    "\n",
    "def fourthQueryTest(Boat,Reservation):\n",
    "    assert session.query(Boat.bname, func.count(Reservation.sid)).\\\n",
    "    select_from(Reservation).join(Boat).\\\n",
    "    group_by(Boat.bname).first() == ('Clipper', 8)\n",
    "    \n",
    "def fifthQueryTest(Sailor,Boat,Reservation):\n",
    "    assert len(session.query(Sailor.sname,Sailor.sid).\n",
    "    select_from(Reservation).join(Boat).join(Sailor).\\\n",
    "    group_by(Sailor.sname,Sailor.sid).\\\n",
    "    having(func.sum(expr) == 0).all()) == 3\n",
    "\n",
    "def sixthQueryTest(Sailor):\n",
    "    assert (session.query(func.avg(Sailor.age)).\\\n",
    "    select_from(Sailor).\\\n",
    "    filter(Sailor.rating == 10).all())[0][0] == 35.0\n",
    "    \n",
    "def seventhQueryTest(Sailor):\n",
    "    x = []\n",
    "    for i in range(len(session.query(Sailor.rating).distinct().all())):\n",
    "        \n",
    "        subquery = session.query(Sailor.age).\\\n",
    "        select_from(Sailor).\\\n",
    "        filter(Sailor.rating == session.query(Sailor.rating).distinct().all()[i][0]).\\\n",
    "        group_by(Sailor.age).first()\n",
    "        \n",
    "        \n",
    "        x.append(session.query(Sailor.sname,Sailor.sid).\\\n",
    "        select_from(Sailor).\\\n",
    "        filter(and_(Sailor.rating == session.query(Sailor.rating).distinct().all()[i][0],Sailor.age.in_(subquery))).first())\n",
    "    \n",
    "    assert len(x) == 6\n",
    "\n",
    "def eighthQueryTest(Sailor,Boat,Reservation):\n",
    "    x = []\n",
    "    for i in range(len(session.query(Boat.bname).distinct().all())):\n",
    "        \n",
    "        x.append(session.query(func.count(Reservation.bid),Boat.bname,Sailor.sname).\\\n",
    "        select_from(Reservation).join(Sailor).join(Boat).\\\n",
    "        filter(Boat.bname == session.query(Boat.bname).distinct().all()[i][0]).\\\n",
    "        group_by(Boat.bname,Sailor.sname).first())\n",
    "\n",
    "    assert len(x) == 6    \n",
    "    "
   ]
  },
  {
   "cell_type": "code",
   "execution_count": 346,
   "metadata": {},
   "outputs": [
    {
     "data": {
      "text/plain": [
       "['Interlake', 'Clipper', 'Marine', 'Driftwood', 'Klapser', 'Sooney']"
      ]
     },
     "execution_count": 346,
     "metadata": {},
     "output_type": "execute_result"
    }
   ],
   "source": [
    "x"
   ]
  },
  {
   "cell_type": "code",
   "execution_count": 347,
   "metadata": {},
   "outputs": [
    {
     "name": "stdout",
     "output_type": "stream",
     "text": [
      "2020-10-15 11:10:01,323 INFO sqlalchemy.engine.base.Engine SELECT \"Boats\".bname AS \"Boats_bname\", count(\"Boats\".bname) AS count_1 \n",
      "FROM \"Boats\" JOIN \"Reserves\" ON \"Boats\".bid = \"Reserves\".bid GROUP BY \"Boats\".bname\n",
      "2020-10-15 11:10:01,327 INFO sqlalchemy.engine.base.Engine ()\n"
     ]
    }
   ],
   "source": [
    "firstQueryTest(Boat,Reservation)"
   ]
  },
  {
   "cell_type": "code",
   "execution_count": 348,
   "metadata": {},
   "outputs": [
    {
     "name": "stdout",
     "output_type": "stream",
     "text": [
      "2020-10-15 11:10:01,588 INFO sqlalchemy.engine.base.Engine SELECT \"Sailors\".sname AS \"Sailors_sname\", \"Sailors\".sid AS \"Sailors_sid\" \n",
      "FROM \"Reserves\" JOIN \"Boats\" ON \"Boats\".bid = \"Reserves\".bid JOIN \"Sailors\" ON \"Sailors\".sid = \"Reserves\".sid GROUP BY \"Sailors\".sname, \"Sailors\".sid \n",
      "HAVING sum(CASE WHEN (\"Boats\".color = ?) THEN ? ELSE ? END) = (SELECT count(\"Boats\".bname) AS count_1 \n",
      "FROM \"Boats\" \n",
      "WHERE \"Boats\".color = ?)\n",
      "2020-10-15 11:10:01,593 INFO sqlalchemy.engine.base.Engine ('red', 1, 0, 'red')\n"
     ]
    }
   ],
   "source": [
    "secondQueryTest(Sailor,Boat,Reservation)"
   ]
  },
  {
   "cell_type": "code",
   "execution_count": 349,
   "metadata": {},
   "outputs": [
    {
     "name": "stdout",
     "output_type": "stream",
     "text": [
      "2020-10-15 11:10:01,859 INFO sqlalchemy.engine.base.Engine SELECT \"Sailors\".sname AS \"Sailors_sname\", \"Sailors\".sid AS \"Sailors_sid\" \n",
      "FROM \"Reserves\" JOIN \"Boats\" ON \"Boats\".bid = \"Reserves\".bid JOIN \"Sailors\" ON \"Sailors\".sid = \"Reserves\".sid GROUP BY \"Sailors\".sname, \"Sailors\".sid \n",
      "HAVING sum(CASE WHEN (\"Boats\".color = ?) THEN ? ELSE ? END) = count(\"Boats\".color)\n",
      "2020-10-15 11:10:01,863 INFO sqlalchemy.engine.base.Engine ('red', 1, 0)\n"
     ]
    }
   ],
   "source": [
    "thirdQueryTest(Sailor,Boat,Reservation)"
   ]
  },
  {
   "cell_type": "code",
   "execution_count": 350,
   "metadata": {},
   "outputs": [
    {
     "name": "stdout",
     "output_type": "stream",
     "text": [
      "2020-10-15 11:10:02,160 INFO sqlalchemy.engine.base.Engine SELECT \"Boats\".bname AS \"Boats_bname\", count(\"Reserves\".sid) AS count_1 \n",
      "FROM \"Reserves\" JOIN \"Boats\" ON \"Boats\".bid = \"Reserves\".bid GROUP BY \"Boats\".bname\n",
      " LIMIT ? OFFSET ?\n",
      "2020-10-15 11:10:02,167 INFO sqlalchemy.engine.base.Engine (1, 0)\n"
     ]
    }
   ],
   "source": [
    "fourthQueryTest(Boat,Reservation)"
   ]
  },
  {
   "cell_type": "code",
   "execution_count": 351,
   "metadata": {},
   "outputs": [
    {
     "name": "stdout",
     "output_type": "stream",
     "text": [
      "2020-10-15 11:10:02,410 INFO sqlalchemy.engine.base.Engine SELECT \"Sailors\".sname AS \"Sailors_sname\", \"Sailors\".sid AS \"Sailors_sid\" \n",
      "FROM \"Reserves\" JOIN \"Boats\" ON \"Boats\".bid = \"Reserves\".bid JOIN \"Sailors\" ON \"Sailors\".sid = \"Reserves\".sid GROUP BY \"Sailors\".sname, \"Sailors\".sid \n",
      "HAVING sum(CASE WHEN (\"Boats\".color = ?) THEN ? ELSE ? END) = ?\n",
      "2020-10-15 11:10:02,415 INFO sqlalchemy.engine.base.Engine ('red', 1, 0, 0)\n"
     ]
    }
   ],
   "source": [
    "fifthQueryTest(Sailor,Boat,Reservation)"
   ]
  },
  {
   "cell_type": "code",
   "execution_count": 352,
   "metadata": {},
   "outputs": [
    {
     "name": "stdout",
     "output_type": "stream",
     "text": [
      "2020-10-15 11:10:02,687 INFO sqlalchemy.engine.base.Engine SELECT avg(\"Sailors\".age) AS avg_1 \n",
      "FROM \"Sailors\" \n",
      "WHERE \"Sailors\".rating = ?\n",
      "2020-10-15 11:10:02,690 INFO sqlalchemy.engine.base.Engine (10,)\n"
     ]
    }
   ],
   "source": [
    "sixthQueryTest(Sailor)"
   ]
  },
  {
   "cell_type": "code",
   "execution_count": 353,
   "metadata": {},
   "outputs": [
    {
     "name": "stdout",
     "output_type": "stream",
     "text": [
      "2020-10-15 11:10:03,040 INFO sqlalchemy.engine.base.Engine SELECT DISTINCT \"Sailors\".rating AS \"Sailors_rating\" \n",
      "FROM \"Sailors\"\n",
      "2020-10-15 11:10:03,044 INFO sqlalchemy.engine.base.Engine ()\n",
      "2020-10-15 11:10:03,051 INFO sqlalchemy.engine.base.Engine SELECT DISTINCT \"Sailors\".rating AS \"Sailors_rating\" \n",
      "FROM \"Sailors\"\n",
      "2020-10-15 11:10:03,053 INFO sqlalchemy.engine.base.Engine ()\n",
      "2020-10-15 11:10:03,062 INFO sqlalchemy.engine.base.Engine SELECT \"Sailors\".age AS \"Sailors_age\" \n",
      "FROM \"Sailors\" \n",
      "WHERE \"Sailors\".rating = ? GROUP BY \"Sailors\".age\n",
      " LIMIT ? OFFSET ?\n",
      "2020-10-15 11:10:03,064 INFO sqlalchemy.engine.base.Engine (7, 1, 0)\n",
      "2020-10-15 11:10:03,070 INFO sqlalchemy.engine.base.Engine SELECT DISTINCT \"Sailors\".rating AS \"Sailors_rating\" \n",
      "FROM \"Sailors\"\n",
      "2020-10-15 11:10:03,075 INFO sqlalchemy.engine.base.Engine ()\n",
      "2020-10-15 11:10:03,082 INFO sqlalchemy.engine.base.Engine SELECT \"Sailors\".sname AS \"Sailors_sname\", \"Sailors\".sid AS \"Sailors_sid\" \n",
      "FROM \"Sailors\" \n",
      "WHERE \"Sailors\".rating = ? AND \"Sailors\".age IN (?)\n",
      " LIMIT ? OFFSET ?\n",
      "2020-10-15 11:10:03,087 INFO sqlalchemy.engine.base.Engine (7, 16, 1, 0)\n",
      "2020-10-15 11:10:03,091 INFO sqlalchemy.engine.base.Engine SELECT DISTINCT \"Sailors\".rating AS \"Sailors_rating\" \n",
      "FROM \"Sailors\"\n",
      "2020-10-15 11:10:03,094 INFO sqlalchemy.engine.base.Engine ()\n",
      "2020-10-15 11:10:03,102 INFO sqlalchemy.engine.base.Engine SELECT \"Sailors\".age AS \"Sailors_age\" \n",
      "FROM \"Sailors\" \n",
      "WHERE \"Sailors\".rating = ? GROUP BY \"Sailors\".age\n",
      " LIMIT ? OFFSET ?\n",
      "2020-10-15 11:10:03,105 INFO sqlalchemy.engine.base.Engine (1, 1, 0)\n",
      "2020-10-15 11:10:03,111 INFO sqlalchemy.engine.base.Engine SELECT DISTINCT \"Sailors\".rating AS \"Sailors_rating\" \n",
      "FROM \"Sailors\"\n",
      "2020-10-15 11:10:03,114 INFO sqlalchemy.engine.base.Engine ()\n",
      "2020-10-15 11:10:03,119 INFO sqlalchemy.engine.base.Engine SELECT \"Sailors\".sname AS \"Sailors_sname\", \"Sailors\".sid AS \"Sailors_sid\" \n",
      "FROM \"Sailors\" \n",
      "WHERE \"Sailors\".rating = ? AND \"Sailors\".age IN (?)\n",
      " LIMIT ? OFFSET ?\n",
      "2020-10-15 11:10:03,122 INFO sqlalchemy.engine.base.Engine (1, 33, 1, 0)\n",
      "2020-10-15 11:10:03,126 INFO sqlalchemy.engine.base.Engine SELECT DISTINCT \"Sailors\".rating AS \"Sailors_rating\" \n",
      "FROM \"Sailors\"\n",
      "2020-10-15 11:10:03,128 INFO sqlalchemy.engine.base.Engine ()\n",
      "2020-10-15 11:10:03,132 INFO sqlalchemy.engine.base.Engine SELECT \"Sailors\".age AS \"Sailors_age\" \n",
      "FROM \"Sailors\" \n",
      "WHERE \"Sailors\".rating = ? GROUP BY \"Sailors\".age\n",
      " LIMIT ? OFFSET ?\n",
      "2020-10-15 11:10:03,133 INFO sqlalchemy.engine.base.Engine (8, 1, 0)\n",
      "2020-10-15 11:10:03,137 INFO sqlalchemy.engine.base.Engine SELECT DISTINCT \"Sailors\".rating AS \"Sailors_rating\" \n",
      "FROM \"Sailors\"\n",
      "2020-10-15 11:10:03,139 INFO sqlalchemy.engine.base.Engine ()\n",
      "2020-10-15 11:10:03,144 INFO sqlalchemy.engine.base.Engine SELECT \"Sailors\".sname AS \"Sailors_sname\", \"Sailors\".sid AS \"Sailors_sid\" \n",
      "FROM \"Sailors\" \n",
      "WHERE \"Sailors\".rating = ? AND \"Sailors\".age IN (?)\n",
      " LIMIT ? OFFSET ?\n",
      "2020-10-15 11:10:03,146 INFO sqlalchemy.engine.base.Engine (8, 25.5, 1, 0)\n",
      "2020-10-15 11:10:03,150 INFO sqlalchemy.engine.base.Engine SELECT DISTINCT \"Sailors\".rating AS \"Sailors_rating\" \n",
      "FROM \"Sailors\"\n",
      "2020-10-15 11:10:03,152 INFO sqlalchemy.engine.base.Engine ()\n",
      "2020-10-15 11:10:03,156 INFO sqlalchemy.engine.base.Engine SELECT \"Sailors\".age AS \"Sailors_age\" \n",
      "FROM \"Sailors\" \n",
      "WHERE \"Sailors\".rating = ? GROUP BY \"Sailors\".age\n",
      " LIMIT ? OFFSET ?\n",
      "2020-10-15 11:10:03,158 INFO sqlalchemy.engine.base.Engine (10, 1, 0)\n",
      "2020-10-15 11:10:03,162 INFO sqlalchemy.engine.base.Engine SELECT DISTINCT \"Sailors\".rating AS \"Sailors_rating\" \n",
      "FROM \"Sailors\"\n",
      "2020-10-15 11:10:03,164 INFO sqlalchemy.engine.base.Engine ()\n",
      "2020-10-15 11:10:03,168 INFO sqlalchemy.engine.base.Engine SELECT \"Sailors\".sname AS \"Sailors_sname\", \"Sailors\".sid AS \"Sailors_sid\" \n",
      "FROM \"Sailors\" \n",
      "WHERE \"Sailors\".rating = ? AND \"Sailors\".age IN (?)\n",
      " LIMIT ? OFFSET ?\n",
      "2020-10-15 11:10:03,170 INFO sqlalchemy.engine.base.Engine (10, 35, 1, 0)\n",
      "2020-10-15 11:10:03,173 INFO sqlalchemy.engine.base.Engine SELECT DISTINCT \"Sailors\".rating AS \"Sailors_rating\" \n",
      "FROM \"Sailors\"\n",
      "2020-10-15 11:10:03,176 INFO sqlalchemy.engine.base.Engine ()\n",
      "2020-10-15 11:10:03,179 INFO sqlalchemy.engine.base.Engine SELECT \"Sailors\".age AS \"Sailors_age\" \n",
      "FROM \"Sailors\" \n",
      "WHERE \"Sailors\".rating = ? GROUP BY \"Sailors\".age\n",
      " LIMIT ? OFFSET ?\n",
      "2020-10-15 11:10:03,182 INFO sqlalchemy.engine.base.Engine (9, 1, 0)\n",
      "2020-10-15 11:10:03,184 INFO sqlalchemy.engine.base.Engine SELECT DISTINCT \"Sailors\".rating AS \"Sailors_rating\" \n",
      "FROM \"Sailors\"\n",
      "2020-10-15 11:10:03,186 INFO sqlalchemy.engine.base.Engine ()\n",
      "2020-10-15 11:10:03,189 INFO sqlalchemy.engine.base.Engine SELECT \"Sailors\".sname AS \"Sailors_sname\", \"Sailors\".sid AS \"Sailors_sid\" \n",
      "FROM \"Sailors\" \n",
      "WHERE \"Sailors\".rating = ? AND \"Sailors\".age IN (?)\n",
      " LIMIT ? OFFSET ?\n",
      "2020-10-15 11:10:03,192 INFO sqlalchemy.engine.base.Engine (9, 25.5, 1, 0)\n",
      "2020-10-15 11:10:03,194 INFO sqlalchemy.engine.base.Engine SELECT DISTINCT \"Sailors\".rating AS \"Sailors_rating\" \n",
      "FROM \"Sailors\"\n",
      "2020-10-15 11:10:03,196 INFO sqlalchemy.engine.base.Engine ()\n",
      "2020-10-15 11:10:03,201 INFO sqlalchemy.engine.base.Engine SELECT \"Sailors\".age AS \"Sailors_age\" \n",
      "FROM \"Sailors\" \n",
      "WHERE \"Sailors\".rating = ? GROUP BY \"Sailors\".age\n",
      " LIMIT ? OFFSET ?\n",
      "2020-10-15 11:10:03,203 INFO sqlalchemy.engine.base.Engine (3, 1, 0)\n",
      "2020-10-15 11:10:03,206 INFO sqlalchemy.engine.base.Engine SELECT DISTINCT \"Sailors\".rating AS \"Sailors_rating\" \n",
      "FROM \"Sailors\"\n",
      "2020-10-15 11:10:03,209 INFO sqlalchemy.engine.base.Engine ()\n",
      "2020-10-15 11:10:03,212 INFO sqlalchemy.engine.base.Engine SELECT \"Sailors\".sname AS \"Sailors_sname\", \"Sailors\".sid AS \"Sailors_sid\" \n",
      "FROM \"Sailors\" \n",
      "WHERE \"Sailors\".rating = ? AND \"Sailors\".age IN (?)\n",
      " LIMIT ? OFFSET ?\n",
      "2020-10-15 11:10:03,214 INFO sqlalchemy.engine.base.Engine (3, 25.5, 1, 0)\n"
     ]
    }
   ],
   "source": [
    "seventhQueryTest(Sailor)"
   ]
  },
  {
   "cell_type": "code",
   "execution_count": 354,
   "metadata": {},
   "outputs": [
    {
     "name": "stdout",
     "output_type": "stream",
     "text": [
      "2020-10-15 11:10:03,950 INFO sqlalchemy.engine.base.Engine SELECT DISTINCT \"Boats\".bname AS \"Boats_bname\" \n",
      "FROM \"Boats\"\n",
      "2020-10-15 11:10:03,954 INFO sqlalchemy.engine.base.Engine ()\n",
      "2020-10-15 11:10:03,963 INFO sqlalchemy.engine.base.Engine SELECT DISTINCT \"Boats\".bname AS \"Boats_bname\" \n",
      "FROM \"Boats\"\n",
      "2020-10-15 11:10:03,967 INFO sqlalchemy.engine.base.Engine ()\n",
      "2020-10-15 11:10:03,976 INFO sqlalchemy.engine.base.Engine SELECT count(\"Reserves\".bid) AS count_1, \"Boats\".bname AS \"Boats_bname\", \"Sailors\".sname AS \"Sailors_sname\" \n",
      "FROM \"Reserves\" JOIN \"Sailors\" ON \"Sailors\".sid = \"Reserves\".sid JOIN \"Boats\" ON \"Boats\".bid = \"Reserves\".bid \n",
      "WHERE \"Boats\".bname = ? GROUP BY \"Boats\".bname, \"Sailors\".sname\n",
      " LIMIT ? OFFSET ?\n",
      "2020-10-15 11:10:03,980 INFO sqlalchemy.engine.base.Engine ('Interlake', 1, 0)\n",
      "2020-10-15 11:10:03,987 INFO sqlalchemy.engine.base.Engine SELECT DISTINCT \"Boats\".bname AS \"Boats_bname\" \n",
      "FROM \"Boats\"\n",
      "2020-10-15 11:10:03,991 INFO sqlalchemy.engine.base.Engine ()\n",
      "2020-10-15 11:10:04,000 INFO sqlalchemy.engine.base.Engine SELECT count(\"Reserves\".bid) AS count_1, \"Boats\".bname AS \"Boats_bname\", \"Sailors\".sname AS \"Sailors_sname\" \n",
      "FROM \"Reserves\" JOIN \"Sailors\" ON \"Sailors\".sid = \"Reserves\".sid JOIN \"Boats\" ON \"Boats\".bid = \"Reserves\".bid \n",
      "WHERE \"Boats\".bname = ? GROUP BY \"Boats\".bname, \"Sailors\".sname\n",
      " LIMIT ? OFFSET ?\n",
      "2020-10-15 11:10:04,002 INFO sqlalchemy.engine.base.Engine ('Clipper', 1, 0)\n",
      "2020-10-15 11:10:04,009 INFO sqlalchemy.engine.base.Engine SELECT DISTINCT \"Boats\".bname AS \"Boats_bname\" \n",
      "FROM \"Boats\"\n",
      "2020-10-15 11:10:04,010 INFO sqlalchemy.engine.base.Engine ()\n",
      "2020-10-15 11:10:04,014 INFO sqlalchemy.engine.base.Engine SELECT count(\"Reserves\".bid) AS count_1, \"Boats\".bname AS \"Boats_bname\", \"Sailors\".sname AS \"Sailors_sname\" \n",
      "FROM \"Reserves\" JOIN \"Sailors\" ON \"Sailors\".sid = \"Reserves\".sid JOIN \"Boats\" ON \"Boats\".bid = \"Reserves\".bid \n",
      "WHERE \"Boats\".bname = ? GROUP BY \"Boats\".bname, \"Sailors\".sname\n",
      " LIMIT ? OFFSET ?\n",
      "2020-10-15 11:10:04,016 INFO sqlalchemy.engine.base.Engine ('Marine', 1, 0)\n",
      "2020-10-15 11:10:04,020 INFO sqlalchemy.engine.base.Engine SELECT DISTINCT \"Boats\".bname AS \"Boats_bname\" \n",
      "FROM \"Boats\"\n",
      "2020-10-15 11:10:04,024 INFO sqlalchemy.engine.base.Engine ()\n",
      "2020-10-15 11:10:04,029 INFO sqlalchemy.engine.base.Engine SELECT count(\"Reserves\".bid) AS count_1, \"Boats\".bname AS \"Boats_bname\", \"Sailors\".sname AS \"Sailors_sname\" \n",
      "FROM \"Reserves\" JOIN \"Sailors\" ON \"Sailors\".sid = \"Reserves\".sid JOIN \"Boats\" ON \"Boats\".bid = \"Reserves\".bid \n",
      "WHERE \"Boats\".bname = ? GROUP BY \"Boats\".bname, \"Sailors\".sname\n",
      " LIMIT ? OFFSET ?\n",
      "2020-10-15 11:10:04,032 INFO sqlalchemy.engine.base.Engine ('Driftwood', 1, 0)\n",
      "2020-10-15 11:10:04,038 INFO sqlalchemy.engine.base.Engine SELECT DISTINCT \"Boats\".bname AS \"Boats_bname\" \n",
      "FROM \"Boats\"\n",
      "2020-10-15 11:10:04,039 INFO sqlalchemy.engine.base.Engine ()\n",
      "2020-10-15 11:10:04,045 INFO sqlalchemy.engine.base.Engine SELECT count(\"Reserves\".bid) AS count_1, \"Boats\".bname AS \"Boats_bname\", \"Sailors\".sname AS \"Sailors_sname\" \n",
      "FROM \"Reserves\" JOIN \"Sailors\" ON \"Sailors\".sid = \"Reserves\".sid JOIN \"Boats\" ON \"Boats\".bid = \"Reserves\".bid \n",
      "WHERE \"Boats\".bname = ? GROUP BY \"Boats\".bname, \"Sailors\".sname\n",
      " LIMIT ? OFFSET ?\n",
      "2020-10-15 11:10:04,046 INFO sqlalchemy.engine.base.Engine ('Klapser', 1, 0)\n",
      "2020-10-15 11:10:04,052 INFO sqlalchemy.engine.base.Engine SELECT DISTINCT \"Boats\".bname AS \"Boats_bname\" \n",
      "FROM \"Boats\"\n",
      "2020-10-15 11:10:04,054 INFO sqlalchemy.engine.base.Engine ()\n",
      "2020-10-15 11:10:04,060 INFO sqlalchemy.engine.base.Engine SELECT count(\"Reserves\".bid) AS count_1, \"Boats\".bname AS \"Boats_bname\", \"Sailors\".sname AS \"Sailors_sname\" \n",
      "FROM \"Reserves\" JOIN \"Sailors\" ON \"Sailors\".sid = \"Reserves\".sid JOIN \"Boats\" ON \"Boats\".bid = \"Reserves\".bid \n",
      "WHERE \"Boats\".bname = ? GROUP BY \"Boats\".bname, \"Sailors\".sname\n",
      " LIMIT ? OFFSET ?\n",
      "2020-10-15 11:10:04,062 INFO sqlalchemy.engine.base.Engine ('Sooney', 1, 0)\n"
     ]
    }
   ],
   "source": [
    "eighthQueryTest(Sailor,Boat,Reservation)"
   ]
  },
  {
   "cell_type": "code",
   "execution_count": null,
   "metadata": {},
   "outputs": [],
   "source": []
  },
  {
   "cell_type": "code",
   "execution_count": null,
   "metadata": {},
   "outputs": [],
   "source": [
    "#Base.metadata.drop_all(engine) "
   ]
  },
  {
   "cell_type": "code",
   "execution_count": null,
   "metadata": {},
   "outputs": [],
   "source": []
  }
 ],
 "metadata": {
  "kernelspec": {
   "display_name": "Python 3",
   "language": "python",
   "name": "python3"
  },
  "language_info": {
   "codemirror_mode": {
    "name": "ipython",
    "version": 3
   },
   "file_extension": ".py",
   "mimetype": "text/x-python",
   "name": "python",
   "nbconvert_exporter": "python",
   "pygments_lexer": "ipython3",
   "version": "3.7.6"
  }
 },
 "nbformat": 4,
 "nbformat_minor": 4
}
